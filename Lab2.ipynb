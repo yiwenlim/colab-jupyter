{
  "nbformat": 4,
  "nbformat_minor": 0,
  "metadata": {
    "colab": {
      "name": "Lab2.ipynb",
      "provenance": []
    },
    "kernelspec": {
      "name": "python3",
      "display_name": "Python 3"
    },
    "language_info": {
      "name": "python"
    }
  },
  "cells": [
    {
      "cell_type": "code",
      "metadata": {
        "id": "-bRJR5AyH79q"
      },
      "source": [
        "print(\"hello world\")"
      ],
      "execution_count": null,
      "outputs": []
    },
    {
      "cell_type": "markdown",
      "metadata": {
        "id": "V97oncVOIHmw"
      },
      "source": [
        "# This is a markdown statement\n",
        "\n",
        "# This is an <h1> tag\n",
        "## This is an <h2> tag\n",
        "###### This is an <h6> tag\n",
        "\n",
        "* Item 1\n",
        "* Item 2\n",
        "  * Item 2a"
      ]
    }
  ]
}